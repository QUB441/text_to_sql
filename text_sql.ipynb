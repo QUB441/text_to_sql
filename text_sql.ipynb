{
 "cells": [
  {
   "cell_type": "code",
   "execution_count": null,
   "metadata": {},
   "outputs": [],
   "source": []
  },
  {
   "cell_type": "markdown",
   "metadata": {},
   "source": [
    "### Language to SQL transformers \n",
    "#### with graph relationships Graphix T5"
   ]
  },
  {
   "cell_type": "code",
   "execution_count": 1,
   "metadata": {},
   "outputs": [
    {
     "name": "stderr",
     "output_type": "stream",
     "text": [
      "c:\\Users\\barbora.filova\\AppData\\Local\\anaconda3\\envs\\pytorch\\Lib\\site-packages\\tqdm\\auto.py:21: TqdmWarning: IProgress not found. Please update jupyter and ipywidgets. See https://ipywidgets.readthedocs.io/en/stable/user_install.html\n",
      "  from .autonotebook import tqdm as notebook_tqdm\n",
      "c:\\Users\\barbora.filova\\AppData\\Local\\anaconda3\\envs\\pytorch\\Lib\\site-packages\\huggingface_hub\\file_download.py:139: UserWarning: `huggingface_hub` cache-system uses symlinks by default to efficiently store duplicated files but your machine does not support them in C:\\Users\\barbora.filova\\.cache\\huggingface\\hub\\datasets--xlangai--spider. Caching files will still work but in a degraded version that might require more space on your disk. This warning can be disabled by setting the `HF_HUB_DISABLE_SYMLINKS_WARNING` environment variable. For more details, see https://huggingface.co/docs/huggingface_hub/how-to-cache#limitations.\n",
      "To support symlinks on Windows, you either need to activate Developer Mode or to run Python as an administrator. In order to activate developer mode, see this article: https://docs.microsoft.com/en-us/windows/apps/get-started/enable-your-device-for-development\n",
      "  warnings.warn(message)\n",
      "Generating train split: 100%|██████████| 7000/7000 [00:00<00:00, 156800.60 examples/s]\n",
      "Generating validation split: 100%|██████████| 1034/1034 [00:00<00:00, 117166.29 examples/s]\n"
     ]
    }
   ],
   "source": [
    "#let's exlore the data\n",
    "import datasets\n",
    "\n",
    "\n",
    "from datasets import load_dataset\n",
    "\n",
    "ds = load_dataset(\"xlangai/spider\")"
   ]
  },
  {
   "cell_type": "code",
   "execution_count": null,
   "metadata": {},
   "outputs": [
    {
     "name": "stdout",
     "output_type": "stream",
     "text": [
      "{'db_id': 'department_management', 'query': 'SELECT count(*) FROM head WHERE age  >  56', 'question': 'How many heads of the departments are older than 56 ?', 'query_toks': ['SELECT', 'count', '(', '*', ')', 'FROM', 'head', 'WHERE', 'age', '>', '56'], 'query_toks_no_value': ['select', 'count', '(', '*', ')', 'from', 'head', 'where', 'age', '>', 'value'], 'question_toks': ['How', 'many', 'heads', 'of', 'the', 'departments', 'are', 'older', 'than', '56', '?']}\n"
     ]
    }
   ],
   "source": [
    "print(ds['train'][0])\n"
   ]
  },
  {
   "cell_type": "code",
   "execution_count": null,
   "metadata": {},
   "outputs": [],
   "source": [
    "import pandas as pd\n",
    "\n",
    "df = pd.DataFrame(ds['train'])\n",
    "\n",
    "df_test = pd.DataFrame(ds['validation'])"
   ]
  },
  {
   "cell_type": "code",
   "execution_count": 7,
   "metadata": {},
   "outputs": [
    {
     "data": {
      "text/html": [
       "<div>\n",
       "<style scoped>\n",
       "    .dataframe tbody tr th:only-of-type {\n",
       "        vertical-align: middle;\n",
       "    }\n",
       "\n",
       "    .dataframe tbody tr th {\n",
       "        vertical-align: top;\n",
       "    }\n",
       "\n",
       "    .dataframe thead th {\n",
       "        text-align: right;\n",
       "    }\n",
       "</style>\n",
       "<table border=\"1\" class=\"dataframe\">\n",
       "  <thead>\n",
       "    <tr style=\"text-align: right;\">\n",
       "      <th></th>\n",
       "      <th>db_id</th>\n",
       "      <th>query</th>\n",
       "      <th>question</th>\n",
       "      <th>query_toks</th>\n",
       "      <th>query_toks_no_value</th>\n",
       "      <th>question_toks</th>\n",
       "    </tr>\n",
       "  </thead>\n",
       "  <tbody>\n",
       "    <tr>\n",
       "      <th>0</th>\n",
       "      <td>department_management</td>\n",
       "      <td>SELECT count(*) FROM head WHERE age  &gt;  56</td>\n",
       "      <td>How many heads of the departments are older th...</td>\n",
       "      <td>[SELECT, count, (, *, ), FROM, head, WHERE, ag...</td>\n",
       "      <td>[select, count, (, *, ), from, head, where, ag...</td>\n",
       "      <td>[How, many, heads, of, the, departments, are, ...</td>\n",
       "    </tr>\n",
       "    <tr>\n",
       "      <th>1</th>\n",
       "      <td>department_management</td>\n",
       "      <td>SELECT name ,  born_state ,  age FROM head ORD...</td>\n",
       "      <td>List the name, born state and age of the heads...</td>\n",
       "      <td>[SELECT, name, ,, born_state, ,, age, FROM, he...</td>\n",
       "      <td>[select, name, ,, born_state, ,, age, from, he...</td>\n",
       "      <td>[List, the, name, ,, born, state, and, age, of...</td>\n",
       "    </tr>\n",
       "  </tbody>\n",
       "</table>\n",
       "</div>"
      ],
      "text/plain": [
       "                   db_id                                              query  \\\n",
       "0  department_management         SELECT count(*) FROM head WHERE age  >  56   \n",
       "1  department_management  SELECT name ,  born_state ,  age FROM head ORD...   \n",
       "\n",
       "                                            question  \\\n",
       "0  How many heads of the departments are older th...   \n",
       "1  List the name, born state and age of the heads...   \n",
       "\n",
       "                                          query_toks  \\\n",
       "0  [SELECT, count, (, *, ), FROM, head, WHERE, ag...   \n",
       "1  [SELECT, name, ,, born_state, ,, age, FROM, he...   \n",
       "\n",
       "                                 query_toks_no_value  \\\n",
       "0  [select, count, (, *, ), from, head, where, ag...   \n",
       "1  [select, name, ,, born_state, ,, age, from, he...   \n",
       "\n",
       "                                       question_toks  \n",
       "0  [How, many, heads, of, the, departments, are, ...  \n",
       "1  [List, the, name, ,, born, state, and, age, of...  "
      ]
     },
     "execution_count": 7,
     "metadata": {},
     "output_type": "execute_result"
    }
   ],
   "source": [
    "df.head(2)"
   ]
  },
  {
   "cell_type": "code",
   "execution_count": null,
   "metadata": {},
   "outputs": [
    {
     "data": {
      "text/html": [
       "<div>\n",
       "<style scoped>\n",
       "    .dataframe tbody tr th:only-of-type {\n",
       "        vertical-align: middle;\n",
       "    }\n",
       "\n",
       "    .dataframe tbody tr th {\n",
       "        vertical-align: top;\n",
       "    }\n",
       "\n",
       "    .dataframe thead th {\n",
       "        text-align: right;\n",
       "    }\n",
       "</style>\n",
       "<table border=\"1\" class=\"dataframe\">\n",
       "  <thead>\n",
       "    <tr style=\"text-align: right;\">\n",
       "      <th></th>\n",
       "      <th>column_names</th>\n",
       "      <th>column_names_original</th>\n",
       "      <th>column_types</th>\n",
       "      <th>db_id</th>\n",
       "      <th>foreign_keys</th>\n",
       "      <th>primary_keys</th>\n",
       "      <th>table_names</th>\n",
       "      <th>table_names_original</th>\n",
       "    </tr>\n",
       "  </thead>\n",
       "  <tbody>\n",
       "    <tr>\n",
       "      <th>159</th>\n",
       "      <td>[[-1, *], [0, department id], [0, name], [0, creation], [0, ranking], [0, budget in billions], [0, num employees], [1, head id], [1, name], [1, born state], [1, age], [2, department id], [2, head id], [2, temporary acting]]</td>\n",
       "      <td>[[-1, *], [0, Department_ID], [0, Name], [0, Creation], [0, Ranking], [0, Budget_in_Billions], [0, Num_Employees], [1, head_ID], [1, name], [1, born_state], [1, age], [2, department_ID], [2, head_ID], [2, temporary_acting]]</td>\n",
       "      <td>[text, number, text, text, number, number, number, number, text, text, number, number, number, text]</td>\n",
       "      <td>department_management</td>\n",
       "      <td>[[12, 7], [11, 1]]</td>\n",
       "      <td>[1, 7, 11]</td>\n",
       "      <td>[department, head, management]</td>\n",
       "      <td>[department, head, management]</td>\n",
       "    </tr>\n",
       "  </tbody>\n",
       "</table>\n",
       "</div>"
      ],
      "text/plain": [
       "                                                                                                                                                                                                                        column_names  \\\n",
       "159  [[-1, *], [0, department id], [0, name], [0, creation], [0, ranking], [0, budget in billions], [0, num employees], [1, head id], [1, name], [1, born state], [1, age], [2, department id], [2, head id], [2, temporary acting]]   \n",
       "\n",
       "                                                                                                                                                                                                               column_names_original  \\\n",
       "159  [[-1, *], [0, Department_ID], [0, Name], [0, Creation], [0, Ranking], [0, Budget_in_Billions], [0, Num_Employees], [1, head_ID], [1, name], [1, born_state], [1, age], [2, department_ID], [2, head_ID], [2, temporary_acting]]   \n",
       "\n",
       "                                                                                             column_types  \\\n",
       "159  [text, number, text, text, number, number, number, number, text, text, number, number, number, text]   \n",
       "\n",
       "                     db_id        foreign_keys primary_keys  \\\n",
       "159  department_management  [[12, 7], [11, 1]]   [1, 7, 11]   \n",
       "\n",
       "                        table_names            table_names_original  \n",
       "159  [department, head, management]  [department, head, management]  "
      ]
     },
     "execution_count": 14,
     "metadata": {},
     "output_type": "execute_result"
    }
   ],
   "source": [
    "import pandas as pd\n",
    "\n",
    "# Set display options to see the full output\n",
    "pd.set_option('display.max_rows', None)\n",
    "pd.set_option('display.max_columns', None)\n",
    "pd.set_option('display.max_colwidth', None)\n",
    "pd.set_option('display.width', None)\n",
    "\n",
    "tables = pd.read_json('tables.json')\n",
    "\n",
    "# Now print the DataFrame\n",
    "print(tables[tables['db_id'] == 'department_management']['column_names'])"
   ]
  },
  {
   "cell_type": "code",
   "execution_count": null,
   "metadata": {},
   "outputs": [],
   "source": []
  },
  {
   "cell_type": "code",
   "execution_count": null,
   "metadata": {},
   "outputs": [],
   "source": []
  },
  {
   "cell_type": "code",
   "execution_count": 20,
   "metadata": {},
   "outputs": [],
   "source": [
    "def extract_schema_for_db(db_id, tables_df):\n",
    "    # Find the schema for the specific database ID\n",
    "    \n",
    "    tables_data = tables_df.to_dict(orient='records')\n",
    "    schema = next((db for db in tables_data if db[\"db_id\"] == db_id), None)\n",
    "    if not schema:\n",
    "        raise ValueError(f\"Schema for db_id {db_id} not found.\")\n",
    "\n",
    "    # Extract tables and columns\n",
    "    tables = schema[\"table_names\"]\n",
    "    columns = schema[\"column_names\"]\n",
    "    primary_keys = schema[\"primary_keys\"]\n",
    "    foreign_keys = schema[\"foreign_keys\"]\n",
    "\n",
    "    # Prepare nodes and edges for the graph\n",
    "    nodes = tables + [f\"{col[1]}\" for col in columns if col[0] != -1]  # Exclude global columns\n",
    "    edges = []\n",
    "\n",
    "    # Table-Column edges\n",
    "    for col in columns:\n",
    "        if col[0] != -1:  # Skip global columns\n",
    "            edges.append((tables[col[0]], col[1]))\n",
    "\n",
    "    # Primary Key edges\n",
    "    for pk in primary_keys:\n",
    "        edges.append((f\"{columns[pk][1]}\", f\"{columns[pk][1]} (PK)\"))\n",
    "\n",
    "    # Foreign Key edges\n",
    "    for fk in foreign_keys:\n",
    "        from_col = f\"{columns[fk[0]][1]}\"\n",
    "        to_col = f\"{columns[fk[1]][1]}\"\n",
    "        edges.append((from_col, to_col))\n",
    "\n",
    "    return {\"nodes\": nodes, \"edges\": edges}\n",
    "\n",
    "\n"
   ]
  },
  {
   "cell_type": "code",
   "execution_count": 21,
   "metadata": {},
   "outputs": [
    {
     "data": {
      "text/plain": [
       "{'nodes': ['department',\n",
       "  'head',\n",
       "  'management',\n",
       "  'department id',\n",
       "  'name',\n",
       "  'creation',\n",
       "  'ranking',\n",
       "  'budget in billions',\n",
       "  'num employees',\n",
       "  'head id',\n",
       "  'name',\n",
       "  'born state',\n",
       "  'age',\n",
       "  'department id',\n",
       "  'head id',\n",
       "  'temporary acting'],\n",
       " 'edges': [('department', 'department id'),\n",
       "  ('department', 'name'),\n",
       "  ('department', 'creation'),\n",
       "  ('department', 'ranking'),\n",
       "  ('department', 'budget in billions'),\n",
       "  ('department', 'num employees'),\n",
       "  ('head', 'head id'),\n",
       "  ('head', 'name'),\n",
       "  ('head', 'born state'),\n",
       "  ('head', 'age'),\n",
       "  ('management', 'department id'),\n",
       "  ('management', 'head id'),\n",
       "  ('management', 'temporary acting'),\n",
       "  ('department id', 'department id (PK)'),\n",
       "  ('head id', 'head id (PK)'),\n",
       "  ('department id', 'department id (PK)'),\n",
       "  ('head id', 'head id'),\n",
       "  ('department id', 'department id')]}"
      ]
     },
     "execution_count": 21,
     "metadata": {},
     "output_type": "execute_result"
    }
   ],
   "source": [
    "# Example usage\n",
    "db_id = \"department_management\"\n",
    "\n",
    "schema_graph = extract_schema_for_db(db_id, tables)\n",
    "schema_graph"
   ]
  },
  {
   "cell_type": "code",
   "execution_count": null,
   "metadata": {},
   "outputs": [],
   "source": [
    "def prepare_t5_inputs_targets(data, tables_data):\n",
    "    inputs = []\n",
    "    targets = []\n",
    "\n",
    "    for record in data:\n",
    "        db_id = record[\"db_id\"]\n",
    "        question = record[\"question\"]\n",
    "        query = record[\"query\"]\n",
    "\n",
    "        # Extract schema for the db_id\n",
    "        schema = extract_schema_for_db(db_id, tables_data)\n",
    "\n",
    "        # Serialize the schema\n",
    "        tables = \", \".join(schema[\"nodes\"][: len(schema[\"nodes\"]) // 2])\n",
    "        edges = schema[\"edges\"]  # Log table, refs\n"
   ]
  }
 ],
 "metadata": {
  "kernelspec": {
   "display_name": "pytorch",
   "language": "python",
   "name": "python3"
  },
  "language_info": {
   "codemirror_mode": {
    "name": "ipython",
    "version": 3
   },
   "file_extension": ".py",
   "mimetype": "text/x-python",
   "name": "python",
   "nbconvert_exporter": "python",
   "pygments_lexer": "ipython3",
   "version": "3.12.7"
  }
 },
 "nbformat": 4,
 "nbformat_minor": 2
}
